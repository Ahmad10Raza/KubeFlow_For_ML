{
 "cells": [
  {
   "cell_type": "markdown",
   "metadata": {},
   "source": [
    "# What are the way to install KubeFlow?"
   ]
  },
  {
   "cell_type": "markdown",
   "metadata": {},
   "source": [
    "There are several ways to install Kubeflow, but the most common methods are:\n",
    "\n",
    "1. **Using kfctl**: `kfctl` is a command-line tool provided by Kubeflow that simplifies the process of deploying Kubeflow. You'll need to download the `kfctl` binary from the Kubeflow releases page, set up your environment variables, and then use `kfctl apply` to deploy Kubeflow.\n",
    "\n",
    "2. **Using Kubernetes Operators**: The Kubeflow community provides operators for Kubernetes that can automate the deployment and management of Kubeflow. You can use the Kubernetes command-line tool `kubectl` to install the operator and then create a Kubeflow deployment.\n",
    "\n",
    "3. **Using a Cloud-Specific Method**: Many cloud providers offer their own methods for deploying Kubeflow. For example, Google Cloud provides the AI Platform Pipelines which allows you to deploy Kubeflow Pipelines with a few clicks. AWS provides a similar service with Amazon SageMaker.\n",
    "\n",
    "Here's an example of how to install Kubeflow using `kfctl`:\n",
    "\n"
   ]
  },
  {
   "cell_type": "code",
   "execution_count": null,
   "metadata": {
    "vscode": {
     "languageId": "bash"
    }
   },
   "outputs": [],
   "source": [
    "# Set the Kubeflow version\n",
    "export KF_VERSION=<kubeflow-version>\n",
    "\n",
    "# Set the path to the kfctl binary\n",
    "export PATH=$PATH:<path-to-kfctl>\n",
    "\n",
    "# Set the path to the Kubeflow deployment directory\n",
    "export KF_DIR=<path-to-kubeflow-deployment>\n",
    "\n",
    "# Set the Kubeflow configuration file\n",
    "export CONFIG_URI=\"https://raw.githubusercontent.com/kubeflow/manifests/v${KF_VERSION}/kfdef/kfctl_k8s_istio.v${KF_VERSION}.yaml\"\n",
    "\n",
    "# Create a new environment for Kubeflow\n",
    "mkdir -p ${KF_DIR}\n",
    "cd ${KF_DIR}\n",
    "\n",
    "# Deploy Kubeflow\n",
    "kfctl apply -V -f ${CONFIG_URI}"
   ]
  },
  {
   "cell_type": "markdown",
   "metadata": {},
   "source": [
    "\n",
    "\n",
    "Remember to replace `<kubeflow-version>`, `<path-to-kfctl>`, and `<path-to-kubeflow-deployment>` with your own values.\n",
    "\n",
    "Please note that these are general steps and might vary based on the specific requirements and the environment you are working in. Always refer to the official Kubeflow documentation for the most accurate and up-to-date information."
   ]
  },
  {
   "cell_type": "markdown",
   "metadata": {},
   "source": [
    "# How to install KubeFlow and its dependency on Ubuntu Using kfctl?"
   ]
  },
  {
   "cell_type": "markdown",
   "metadata": {},
   "source": [
    "To install Kubeflow on Ubuntu using `kfctl`, you'll first need to install some dependencies, including Kubernetes. Here are the steps:\n",
    "\n",
    "1. **Install Docker**: Docker is required to create and manage your containers.\n",
    "\n"
   ]
  },
  {
   "cell_type": "code",
   "execution_count": null,
   "metadata": {
    "vscode": {
     "languageId": "bash"
    }
   },
   "outputs": [],
   "source": [
    "sudo apt-get update\n",
    "sudo apt-get install apt-transport-https ca-certificates curl software-properties-common\n",
    "curl -fsSL https://download.docker.com/linux/ubuntu/gpg | sudo apt-key add -\n",
    "sudo add-apt-repository \"deb [arch=amd64] https://download.docker.com/linux/ubuntu $(lsb_release -cs) stable\"\n",
    "sudo apt-get update\n",
    "sudo apt-get install docker-ce"
   ]
  },
  {
   "cell_type": "markdown",
   "metadata": {},
   "source": [
    "\n",
    "\n",
    "2. **Install kubectl**: `kubectl` is a command line tool for controlling Kubernetes clusters.\n",
    "\n"
   ]
  },
  {
   "cell_type": "code",
   "execution_count": null,
   "metadata": {
    "vscode": {
     "languageId": "bash"
    }
   },
   "outputs": [],
   "source": [
    "curl -LO \"https://dl.k8s.io/release/$(curl -L -s https://dl.k8s.io/release/stable.txt)/bin/linux/amd64/kubectl\"\n",
    "chmod +x kubectl\n",
    "sudo mv kubectl /usr/local/bin/"
   ]
  },
  {
   "cell_type": "markdown",
   "metadata": {},
   "source": [
    "\n",
    "\n",
    "3. **Install MiniKube**: MiniKube is a tool that lets you run Kubernetes locally.\n",
    "\n"
   ]
  },
  {
   "cell_type": "code",
   "execution_count": null,
   "metadata": {
    "vscode": {
     "languageId": "bash"
    }
   },
   "outputs": [],
   "source": [
    "curl -Lo minikube https://storage.googleapis.com/minikube/releases/latest/minikube-linux-amd64\n",
    "chmod +x minikube\n",
    "sudo mv minikube /usr/local/bin/"
   ]
  },
  {
   "cell_type": "markdown",
   "metadata": {},
   "source": [
    "\n",
    "\n",
    "4. **Start MiniKube**:\n",
    "\n"
   ]
  },
  {
   "cell_type": "code",
   "execution_count": null,
   "metadata": {
    "vscode": {
     "languageId": "bash"
    }
   },
   "outputs": [],
   "source": [
    "minikube start --driver=docker"
   ]
  },
  {
   "cell_type": "markdown",
   "metadata": {},
   "source": [
    "\n",
    "\n",
    "5. **Install kfctl**: `kfctl` is a command-line tool provided by Kubeflow.\n",
    "\n"
   ]
  },
  {
   "cell_type": "code",
   "execution_count": null,
   "metadata": {
    "vscode": {
     "languageId": "bash"
    }
   },
   "outputs": [],
   "source": [
    "# Choose the appropriate version from https://github.com/kubeflow/kfctl/releases\n",
    "export KFCTL_VERSION=<chosen-version>\n",
    "wget https://github.com/kubeflow/kfctl/releases/download/v${KFCTL_VERSION}/kfctl_v${KFCTL_VERSION}-0-g9a3621e_linux.tar.gz\n",
    "tar -xvf kfctl_v${KFCTL_VERSION}-0-g9a3621e_linux.tar.gz\n",
    "export PATH=$PATH:$(pwd)"
   ]
  },
  {
   "cell_type": "markdown",
   "metadata": {},
   "source": [
    "\n",
    "\n",
    "6. **Deploy Kubeflow**:\n",
    "\n"
   ]
  },
  {
   "cell_type": "code",
   "execution_count": null,
   "metadata": {
    "vscode": {
     "languageId": "bash"
    }
   },
   "outputs": [],
   "source": [
    "# Set Kubeflow environment\n",
    "export KF_NAME=<your-kubeflow-deployment-name>\n",
    "export BASE_DIR=<path-to-kubeflow-directory>\n",
    "export KF_DIR=${BASE_DIR}/${KF_NAME}\n",
    "export CONFIG_URI=\"https://raw.githubusercontent.com/kubeflow/manifests/v1.2-branch/kfdef/kfctl_k8s_istio.v1.2.0.yaml\"\n",
    "\n",
    "# Create a directory for your Kubeflow deployment\n",
    "mkdir -p ${KF_DIR}\n",
    "\n",
    "# Deploy Kubeflow\n",
    "cd ${KF_DIR}\n",
    "kfctl apply -V -f ${CONFIG_URI}"
   ]
  },
  {
   "cell_type": "markdown",
   "metadata": {},
   "source": [
    "\n",
    "\n",
    "Remember to replace `<your-kubeflow-deployment-name>`, `<path-to-kubeflow-directory>`, and `<chosen-version>` with your own values.\n",
    "\n",
    "Please note that these are general steps and might vary based on the specific requirements and the environment you are working in. Always refer to the official Kubeflow documentation for the most accurate and up-to-date information."
   ]
  }
 ],
 "metadata": {
  "language_info": {
   "name": "python"
  }
 },
 "nbformat": 4,
 "nbformat_minor": 2
}
